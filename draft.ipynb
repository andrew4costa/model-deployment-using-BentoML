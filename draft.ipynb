{
 "cells": [
  {
   "cell_type": "code",
   "execution_count": 12,
   "metadata": {},
   "outputs": [],
   "source": [
    "import pandas as pd\n",
    "from sklearn.datasets import make_classification\n",
    "\n",
    "# Generate the data\n",
    "n_samples, n_features = 10000, 7\n",
    "X, y = make_classification(n_samples=n_samples, n_features=n_features, n_informative=5)\n",
    "\n",
    "# Save it as a CSV\n",
    "feature_names = [f\"feature {i}\" for i in range(n_features)]\n",
    "df = pd.DataFrame(X, columns=feature_names)\n",
    "df[\"target\"] = y\n",
    "\n",
    "df.to_csv(\"/Users/andrewcosta/Desktop/API/data.csv\", index=False)"
   ]
  },
  {
   "cell_type": "code",
   "execution_count": 14,
   "metadata": {},
   "outputs": [],
   "source": [
    "import xgboost as xgb\n",
    "from sklearn.model_selection import KFold, cross_validate, train_test_split\n",
    "\n",
    "data  = pd.read_csv('/Users/andrewcosta/Desktop/API/data.csv')\n",
    "X, y = data.drop('target', axis=1), data[['target']]\n",
    "\n",
    "# create DMatrix\n",
    "dtrain = xgb.DMatrix(X.values, label=y.values)\n",
    "\n",
    "# set parameters\n",
    "params = {\n",
    "    \"objective\": \"binary:logistic\",\n",
    "    \"booster\": \"gbtree\",\n",
    "    \"eval_metric\": \"auc\",\n",
    "}\n",
    "\n",
    "booster = xgb.train(params=params, dtrain=dtrain)\n"
   ]
  },
  {
   "cell_type": "code",
   "execution_count": 16,
   "metadata": {},
   "outputs": [
    {
     "data": {
      "text/plain": [
       "Model(tag=\"xgb_initial:eywptibu4cdwj4dz\", path=\"/Users/andrewcosta/bentoml/models/xgb_initial/eywptibu4cdwj4dz/\")"
      ]
     },
     "execution_count": 16,
     "metadata": {},
     "output_type": "execute_result"
    }
   ],
   "source": [
    "import bentoml\n",
    "\n",
    "bento_xgb = bentoml.xgboost.save_model(\"xgb_initial\", booster)\n",
    "bento_xgb"
   ]
  },
  {
   "cell_type": "code",
   "execution_count": 17,
   "metadata": {},
   "outputs": [
    {
     "data": {
      "text/plain": [
       "Model(tag=\"xgb_custom:udleporu4cdwj4dz\", path=\"/Users/andrewcosta/bentoml/models/xgb_custom/udleporu4cdwj4dz/\")"
      ]
     },
     "execution_count": 17,
     "metadata": {},
     "output_type": "execute_result"
    }
   ],
   "source": [
    "from importlib_metadata import metadata\n",
    "\n",
    "\n",
    "bentoml.xgboost.save_model(\n",
    "    \"xgb_custom\",\n",
    "    booster,\n",
    "    metadata={\"auc\": 0.99,\n",
    "              \"feature_importance\": booster.get_score(importance_type=\"gain\")},\n",
    "    labels={\"author\": \"Andrew\"}\n",
    ")"
   ]
  },
  {
   "cell_type": "code",
   "execution_count": 20,
   "metadata": {},
   "outputs": [
    {
     "data": {
      "text/plain": [
       "<xgboost.core.Booster at 0x7ff9287609d0>"
      ]
     },
     "execution_count": 20,
     "metadata": {},
     "output_type": "execute_result"
    }
   ],
   "source": [
    "# retrieve model\n",
    "booster = bentoml.xgboost.load_model(\"xgb_custom\")\n",
    "booster"
   ]
  },
  {
   "cell_type": "code",
   "execution_count": 26,
   "metadata": {},
   "outputs": [
    {
     "data": {
      "text/plain": [
       "array([0.17240405], dtype=float32)"
      ]
     },
     "execution_count": 26,
     "metadata": {},
     "output_type": "execute_result"
    }
   ],
   "source": [
    "# test model on sample data\n",
    "import numpy as np\n",
    "sample = np.random.random(size=(1,7))\n",
    "\n",
    "booster.predict(xgb.DMatrix(sample))"
   ]
  },
  {
   "cell_type": "code",
   "execution_count": 29,
   "metadata": {},
   "outputs": [],
   "source": [
    "tag = bentoml.models.get(\"xgb_custom:latest\")\n",
    "xgb_runner = tag.to_runner()"
   ]
  },
  {
   "cell_type": "code",
   "execution_count": null,
   "metadata": {},
   "outputs": [],
   "source": []
  }
 ],
 "metadata": {
  "kernelspec": {
   "display_name": "Python 3.9.12 ('base')",
   "language": "python",
   "name": "python3"
  },
  "language_info": {
   "codemirror_mode": {
    "name": "ipython",
    "version": 3
   },
   "file_extension": ".py",
   "mimetype": "text/x-python",
   "name": "python",
   "nbconvert_exporter": "python",
   "pygments_lexer": "ipython3",
   "version": "3.9.12"
  },
  "orig_nbformat": 4,
  "vscode": {
   "interpreter": {
    "hash": "7abe9fbc16390e81b3b6a6ee96bdf947b6cee0ee46d9dfb3c42bf0c77fdbe774"
   }
  }
 },
 "nbformat": 4,
 "nbformat_minor": 2
}
